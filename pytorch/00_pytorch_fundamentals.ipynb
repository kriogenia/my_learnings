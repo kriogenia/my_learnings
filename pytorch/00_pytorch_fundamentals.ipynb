{
  "nbformat": 4,
  "nbformat_minor": 0,
  "metadata": {
    "colab": {
      "provenance": [],
      "authorship_tag": "ABX9TyPRkCe5cxxzf4QhU/J7tuHz",
      "include_colab_link": true
    },
    "kernelspec": {
      "name": "python3",
      "display_name": "Python 3"
    },
    "language_info": {
      "name": "python"
    }
  },
  "cells": [
    {
      "cell_type": "markdown",
      "metadata": {
        "id": "view-in-github",
        "colab_type": "text"
      },
      "source": [
        "<a href=\"https://colab.research.google.com/github/kriogenia/my_learnings/blob/machine_learning/pytorch/00_pytorch_fundamentals.ipynb\" target=\"_parent\"><img src=\"https://colab.research.google.com/assets/colab-badge.svg\" alt=\"Open In Colab\"/></a>"
      ]
    },
    {
      "cell_type": "code",
      "execution_count": 2,
      "metadata": {
        "colab": {
          "base_uri": "https://localhost:8080/"
        },
        "id": "QHFJtv6joJJg",
        "outputId": "0f47fb5b-885b-4316-a132-f0f3d91ea1ef"
      },
      "outputs": [
        {
          "output_type": "stream",
          "name": "stdout",
          "text": [
            "2.3.0+cu121\n"
          ]
        }
      ],
      "source": [
        "import torch\n",
        "\n",
        "print(torch.__version__)"
      ]
    },
    {
      "cell_type": "markdown",
      "source": [
        "# Tensors"
      ],
      "metadata": {
        "id": "KrB-nyMur1hY"
      }
    },
    {
      "cell_type": "markdown",
      "source": [
        "\n",
        "## Creating Tensors"
      ],
      "metadata": {
        "id": "Bs9couOms6kQ"
      }
    },
    {
      "cell_type": "markdown",
      "source": [
        "### Manual"
      ],
      "metadata": {
        "id": "HENHRqFODliK"
      }
    },
    {
      "cell_type": "markdown",
      "source": [
        "#### Scalar"
      ],
      "metadata": {
        "id": "rHX5dvt4s8a2"
      }
    },
    {
      "cell_type": "code",
      "source": [
        "scalar = torch.tensor(7)\n",
        "scalar"
      ],
      "metadata": {
        "colab": {
          "base_uri": "https://localhost:8080/"
        },
        "id": "KF9vBISPr5oO",
        "outputId": "19662fcc-677a-4944-89d4-3bbfb67915c3"
      },
      "execution_count": null,
      "outputs": [
        {
          "output_type": "execute_result",
          "data": {
            "text/plain": [
              "tensor(7)"
            ]
          },
          "metadata": {},
          "execution_count": 4
        }
      ]
    },
    {
      "cell_type": "code",
      "source": [
        "scalar.ndim"
      ],
      "metadata": {
        "colab": {
          "base_uri": "https://localhost:8080/"
        },
        "id": "MDetbHunsPkQ",
        "outputId": "5e1bc99c-67ee-4f65-cd7b-561b40429b3a"
      },
      "execution_count": null,
      "outputs": [
        {
          "output_type": "execute_result",
          "data": {
            "text/plain": [
              "0"
            ]
          },
          "metadata": {},
          "execution_count": 6
        }
      ]
    },
    {
      "cell_type": "code",
      "source": [
        "scalar.item()"
      ],
      "metadata": {
        "colab": {
          "base_uri": "https://localhost:8080/"
        },
        "id": "A7Yzdok0slCb",
        "outputId": "8bf97b05-fa48-4b87-c9c8-98002f69ad52"
      },
      "execution_count": null,
      "outputs": [
        {
          "output_type": "execute_result",
          "data": {
            "text/plain": [
              "7"
            ]
          },
          "metadata": {},
          "execution_count": 7
        }
      ]
    },
    {
      "cell_type": "markdown",
      "source": [
        "#### Vector"
      ],
      "metadata": {
        "id": "SkPyk8PIsspX"
      }
    },
    {
      "cell_type": "code",
      "source": [
        "vector = torch.tensor([2, 3])\n",
        "vector"
      ],
      "metadata": {
        "colab": {
          "base_uri": "https://localhost:8080/"
        },
        "id": "ZrC2MFN4svdn",
        "outputId": "7f7edf26-a419-4e67-dc57-c8608d1d91bb"
      },
      "execution_count": null,
      "outputs": [
        {
          "output_type": "execute_result",
          "data": {
            "text/plain": [
              "tensor([2, 3])"
            ]
          },
          "metadata": {},
          "execution_count": 9
        }
      ]
    },
    {
      "cell_type": "code",
      "source": [
        "vector.ndim"
      ],
      "metadata": {
        "colab": {
          "base_uri": "https://localhost:8080/"
        },
        "id": "HavQabJgtEUi",
        "outputId": "19497fec-c19a-4902-9ed1-1a1801d46533"
      },
      "execution_count": null,
      "outputs": [
        {
          "output_type": "execute_result",
          "data": {
            "text/plain": [
              "1"
            ]
          },
          "metadata": {},
          "execution_count": 10
        }
      ]
    },
    {
      "cell_type": "code",
      "source": [
        "vector.shape"
      ],
      "metadata": {
        "colab": {
          "base_uri": "https://localhost:8080/"
        },
        "id": "3lm1PMQxtNZs",
        "outputId": "02f43fcd-e5e8-4afc-979d-854ca9855c82"
      },
      "execution_count": null,
      "outputs": [
        {
          "output_type": "execute_result",
          "data": {
            "text/plain": [
              "torch.Size([2])"
            ]
          },
          "metadata": {},
          "execution_count": 11
        }
      ]
    },
    {
      "cell_type": "markdown",
      "source": [
        "#### Matrix"
      ],
      "metadata": {
        "id": "Sy4lfyE7taRp"
      }
    },
    {
      "cell_type": "code",
      "source": [
        "MATRIX = torch.tensor([[7, 8], [8, 10]])\n",
        "MATRIX"
      ],
      "metadata": {
        "colab": {
          "base_uri": "https://localhost:8080/"
        },
        "id": "gqahRwH3tbsf",
        "outputId": "f865cf76-afe0-44f6-937a-d5b671ce0146"
      },
      "execution_count": null,
      "outputs": [
        {
          "output_type": "execute_result",
          "data": {
            "text/plain": [
              "tensor([[ 7,  8],\n",
              "        [ 8, 10]])"
            ]
          },
          "metadata": {},
          "execution_count": 12
        }
      ]
    },
    {
      "cell_type": "code",
      "source": [
        "MATRIX.ndim"
      ],
      "metadata": {
        "colab": {
          "base_uri": "https://localhost:8080/"
        },
        "id": "db9jxFzytj3r",
        "outputId": "3a639892-6167-4265-81ab-16b5e2fe3467"
      },
      "execution_count": null,
      "outputs": [
        {
          "output_type": "execute_result",
          "data": {
            "text/plain": [
              "2"
            ]
          },
          "metadata": {},
          "execution_count": 13
        }
      ]
    },
    {
      "cell_type": "code",
      "source": [
        "MATRIX.shape"
      ],
      "metadata": {
        "colab": {
          "base_uri": "https://localhost:8080/"
        },
        "id": "vl9RdjYutluQ",
        "outputId": "49f4095f-ee6e-48ec-dbc2-fb04d7b5d81a"
      },
      "execution_count": null,
      "outputs": [
        {
          "output_type": "execute_result",
          "data": {
            "text/plain": [
              "torch.Size([2, 2])"
            ]
          },
          "metadata": {},
          "execution_count": 14
        }
      ]
    },
    {
      "cell_type": "code",
      "source": [
        "MATRIX[0]"
      ],
      "metadata": {
        "colab": {
          "base_uri": "https://localhost:8080/"
        },
        "id": "APxVYss-tmxX",
        "outputId": "69918c04-5c8f-4688-f91c-4c7629f709ef"
      },
      "execution_count": null,
      "outputs": [
        {
          "output_type": "execute_result",
          "data": {
            "text/plain": [
              "tensor([7, 8])"
            ]
          },
          "metadata": {},
          "execution_count": 15
        }
      ]
    },
    {
      "cell_type": "markdown",
      "source": [
        "#### Tensor"
      ],
      "metadata": {
        "id": "BY80Wbc-tqov"
      }
    },
    {
      "cell_type": "code",
      "source": [
        "TENSOR = torch.tensor([\n",
        "    [[3, 6, 9], [2, 4, 5]],\n",
        "    [[2, 0, 2], [1, 6, 7]],\n",
        "    [[1, 1, 1], [5, 5, 5]],\n",
        "    [[5, 2, 9], [4, 7, 9]]\n",
        "    ])\n",
        "TENSOR"
      ],
      "metadata": {
        "colab": {
          "base_uri": "https://localhost:8080/"
        },
        "id": "DTsH1-69t1FT",
        "outputId": "98b68070-549f-45d2-b5f3-3c4f612c8f5c"
      },
      "execution_count": null,
      "outputs": [
        {
          "output_type": "execute_result",
          "data": {
            "text/plain": [
              "tensor([[[3, 6, 9],\n",
              "         [2, 4, 5]],\n",
              "\n",
              "        [[2, 0, 2],\n",
              "         [1, 6, 7]],\n",
              "\n",
              "        [[1, 1, 1],\n",
              "         [5, 5, 5]],\n",
              "\n",
              "        [[5, 2, 9],\n",
              "         [4, 7, 9]]])"
            ]
          },
          "metadata": {},
          "execution_count": 30
        }
      ]
    },
    {
      "cell_type": "code",
      "source": [
        "TENSOR.ndim"
      ],
      "metadata": {
        "colab": {
          "base_uri": "https://localhost:8080/"
        },
        "id": "fTuRviuruCtI",
        "outputId": "dda94fd8-c33c-4db8-ae15-07cb4947d356"
      },
      "execution_count": null,
      "outputs": [
        {
          "output_type": "execute_result",
          "data": {
            "text/plain": [
              "3"
            ]
          },
          "metadata": {},
          "execution_count": 31
        }
      ]
    },
    {
      "cell_type": "code",
      "source": [
        "TENSOR.shape"
      ],
      "metadata": {
        "colab": {
          "base_uri": "https://localhost:8080/"
        },
        "id": "s7QFDaE1uGgn",
        "outputId": "0bda9ab3-5de8-4790-fbe4-bfd79803f6bf"
      },
      "execution_count": null,
      "outputs": [
        {
          "output_type": "execute_result",
          "data": {
            "text/plain": [
              "torch.Size([4, 2, 3])"
            ]
          },
          "metadata": {},
          "execution_count": 32
        }
      ]
    },
    {
      "cell_type": "markdown",
      "source": [
        "### Random tensors"
      ],
      "metadata": {
        "id": "-gx-cKx5_hyk"
      }
    },
    {
      "cell_type": "markdown",
      "source": [
        "The way neural networks learn is starting with tensors of random number that are then adjusted to better represent the data."
      ],
      "metadata": {
        "id": "ef2eAzzMACpU"
      }
    },
    {
      "cell_type": "code",
      "source": [
        "RANDOM_TENSOR = torch.rand(3, 4)\n",
        "RANDOM_TENSOR"
      ],
      "metadata": {
        "colab": {
          "base_uri": "https://localhost:8080/"
        },
        "id": "nbEfP2dtAbld",
        "outputId": "7957db81-caf7-4fd4-ee31-5610c04c5f85"
      },
      "execution_count": 5,
      "outputs": [
        {
          "output_type": "execute_result",
          "data": {
            "text/plain": [
              "tensor([[0.5078, 0.9373, 0.0491, 0.8311],\n",
              "        [0.2599, 0.2117, 0.7527, 0.9257],\n",
              "        [0.8060, 0.7927, 0.1973, 0.0598]])"
            ]
          },
          "metadata": {},
          "execution_count": 5
        }
      ]
    },
    {
      "cell_type": "code",
      "source": [
        "height = 1280\n",
        "width = 720\n",
        "color_channels = 3\n",
        "RANDOM_IMAGE_TENSOR = torch.rand(\n",
        "    size = ( height, width, color_channels )\n",
        ")\n",
        "\n",
        "RANDOM_IMAGE_TENSOR.shape, RANDOM_IMAGE_TENSOR.ndim"
      ],
      "metadata": {
        "colab": {
          "base_uri": "https://localhost:8080/"
        },
        "id": "E2SCb7S2A6cv",
        "outputId": "5c5853e6-883f-428b-f3bb-1d034c61ae90"
      },
      "execution_count": 7,
      "outputs": [
        {
          "output_type": "execute_result",
          "data": {
            "text/plain": [
              "(torch.Size([1280, 720, 3]), 3)"
            ]
          },
          "metadata": {},
          "execution_count": 7
        }
      ]
    },
    {
      "cell_type": "markdown",
      "source": [
        "### Zeroes and ones"
      ],
      "metadata": {
        "id": "Kdz2F2lbCpiW"
      }
    },
    {
      "cell_type": "code",
      "source": [
        "ZEROES = torch.zeros(3, 4)\n",
        "ZEROES"
      ],
      "metadata": {
        "colab": {
          "base_uri": "https://localhost:8080/"
        },
        "id": "dnF-P-BYCrOM",
        "outputId": "6c891fd2-6e7c-415d-d09b-603000fc7d4e"
      },
      "execution_count": 23,
      "outputs": [
        {
          "output_type": "execute_result",
          "data": {
            "text/plain": [
              "tensor([[0., 0., 0., 0.],\n",
              "        [0., 0., 0., 0.],\n",
              "        [0., 0., 0., 0.]])"
            ]
          },
          "metadata": {},
          "execution_count": 23
        }
      ]
    },
    {
      "cell_type": "code",
      "source": [
        "ONES = torch.ones(4, 2)\n",
        "ONES"
      ],
      "metadata": {
        "colab": {
          "base_uri": "https://localhost:8080/"
        },
        "id": "WceDL9CSCyL1",
        "outputId": "6077ab19-79c5-49b4-f45f-d22a94a5c8fb"
      },
      "execution_count": 21,
      "outputs": [
        {
          "output_type": "execute_result",
          "data": {
            "text/plain": [
              "tensor([[1., 1.],\n",
              "        [1., 1.],\n",
              "        [1., 1.],\n",
              "        [1., 1.]])"
            ]
          },
          "metadata": {},
          "execution_count": 21
        }
      ]
    },
    {
      "cell_type": "code",
      "source": [
        "ONES.dtype"
      ],
      "metadata": {
        "colab": {
          "base_uri": "https://localhost:8080/"
        },
        "id": "8lYgtkNxDN2u",
        "outputId": "0af6b143-d0ea-4ef0-abfc-80418c81f972"
      },
      "execution_count": 22,
      "outputs": [
        {
          "output_type": "execute_result",
          "data": {
            "text/plain": [
              "torch.float32"
            ]
          },
          "metadata": {},
          "execution_count": 22
        }
      ]
    },
    {
      "cell_type": "markdown",
      "source": [
        "## Creating a range of tensors and tensors-like"
      ],
      "metadata": {
        "id": "xNaYxhODD9af"
      }
    },
    {
      "cell_type": "code",
      "source": [
        "range = torch.arange(\n",
        "    start = 0,\n",
        "    end = 100,\n",
        "    step = 5)\n",
        "range"
      ],
      "metadata": {
        "id": "O1QXwDQyEAzt",
        "outputId": "c40cb1a5-3386-4dc0-865f-b89800898316",
        "colab": {
          "base_uri": "https://localhost:8080/"
        }
      },
      "execution_count": 19,
      "outputs": [
        {
          "output_type": "execute_result",
          "data": {
            "text/plain": [
              "tensor([ 0,  5, 10, 15, 20, 25, 30, 35, 40, 45, 50, 55, 60, 65, 70, 75, 80, 85,\n",
              "        90, 95])"
            ]
          },
          "metadata": {},
          "execution_count": 19
        }
      ]
    },
    {
      "cell_type": "code",
      "source": [
        "zeroes_like = torch.zeros_like(range)\n",
        "zeroes_like"
      ],
      "metadata": {
        "id": "PaWSF98TEcx6",
        "outputId": "3f51919e-5d0d-4c20-ba59-3ade9f17ac13",
        "colab": {
          "base_uri": "https://localhost:8080/"
        }
      },
      "execution_count": 24,
      "outputs": [
        {
          "output_type": "execute_result",
          "data": {
            "text/plain": [
              "tensor([0, 0, 0, 0, 0, 0, 0, 0, 0, 0, 0, 0, 0, 0, 0, 0, 0, 0, 0, 0])"
            ]
          },
          "metadata": {},
          "execution_count": 24
        }
      ]
    }
  ]
}