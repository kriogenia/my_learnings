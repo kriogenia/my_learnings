{
 "cells": [
  {
   "cell_type": "markdown",
   "id": "48bb551f-7827-4e10-a483-da162c625240",
   "metadata": {},
   "source": [
    "# PyTorch Workflow\n",
    "\n",
    "Example of end-to-end PyTorch workflow."
   ]
  },
  {
   "cell_type": "code",
   "execution_count": 6,
   "id": "40e3cf30-63f2-4519-86c6-7f95f0ce326b",
   "metadata": {},
   "outputs": [
    {
     "data": {
      "text/plain": [
       "'2.4.0+cu121'"
      ]
     },
     "execution_count": 6,
     "metadata": {},
     "output_type": "execute_result"
    }
   ],
   "source": [
    "import torch\n",
    "from torch import nn ## contains all of PyTorch's basic building blocks for graphs. nn = neural network.\n",
    "\n",
    "import matplotlib.pyplot as plt\n",
    "\n",
    "torch.__version__"
   ]
  },
  {
   "cell_type": "markdown",
   "id": "2ce78f7f-4e5c-43d0-ba1f-8a0a26d470ca",
   "metadata": {},
   "source": [
    "## Data\n",
    "\n",
    "Preparing and loading data. Machine learning is a game of two parts:\n",
    "1. Get data into a numerical representation\n",
    "2. Build a model to learn patterns in that numerical representation.\n",
    "\n",
    "To showcase this, let's create some *known* data using the linear regression formula."
   ]
  },
  {
   "cell_type": "code",
   "execution_count": 9,
   "id": "5587c0ca-fa38-456e-9b26-af2eaabce391",
   "metadata": {},
   "outputs": [
    {
     "data": {
      "text/plain": [
       "(tensor([[0.0000],\n",
       "         [0.0200],\n",
       "         [0.0400],\n",
       "         [0.0600],\n",
       "         [0.0800],\n",
       "         [0.1000],\n",
       "         [0.1200],\n",
       "         [0.1400],\n",
       "         [0.1600],\n",
       "         [0.1800]]),\n",
       " tensor([[0.3000],\n",
       "         [0.3140],\n",
       "         [0.3280],\n",
       "         [0.3420],\n",
       "         [0.3560],\n",
       "         [0.3700],\n",
       "         [0.3840],\n",
       "         [0.3980],\n",
       "         [0.4120],\n",
       "         [0.4260]]))"
      ]
     },
     "execution_count": 9,
     "metadata": {},
     "output_type": "execute_result"
    }
   ],
   "source": [
    "weight = 0.7\n",
    "bias = 0.3\n",
    "\n",
    "start = 0\n",
    "end = 1\n",
    "step = 0.02\n",
    "X = torch.arange(start, end, step).unsqueeze(dim=1)\n",
    "y = weight * X + bias\n",
    "\n",
    "X[:10], y[:10]"
   ]
  },
  {
   "cell_type": "code",
   "execution_count": 10,
   "id": "a87c3035-a43b-44a9-93f0-23befb87fc53",
   "metadata": {},
   "outputs": [
    {
     "data": {
      "text/plain": [
       "(50, 50)"
      ]
     },
     "execution_count": 10,
     "metadata": {},
     "output_type": "execute_result"
    }
   ],
   "source": [
    "len(X), len(y)"
   ]
  },
  {
   "cell_type": "markdown",
   "id": "23182b18-fdef-46f0-a02a-c83ee8016162",
   "metadata": {},
   "source": [
    "## Build\n",
    "\n",
    "Giving shape to the model."
   ]
  },
  {
   "cell_type": "markdown",
   "id": "33731524-f1f8-4171-b185-0f0b9486bba8",
   "metadata": {},
   "source": [
    "## Training\n",
    "\n",
    "Fitting the model to the data."
   ]
  },
  {
   "cell_type": "markdown",
   "id": "eb8c49fa-2824-41be-bcf5-9d0ff6eb3acc",
   "metadata": {},
   "source": [
    "## Inference\n",
    "\n",
    "Making predictions and evaluating the model."
   ]
  },
  {
   "cell_type": "markdown",
   "id": "b720e2e6-6d6d-4606-aba0-609a7ddadc5c",
   "metadata": {},
   "source": [
    "## Reusing\n",
    "\n",
    "Saving and reloading the model."
   ]
  },
  {
   "cell_type": "markdown",
   "id": "ba277564-79d9-4486-954f-0d690797d18d",
   "metadata": {},
   "source": [
    "## Closing\n",
    "\n",
    "Putting it all together."
   ]
  }
 ],
 "metadata": {
  "kernelspec": {
   "display_name": "Python 3 (ipykernel)",
   "language": "python",
   "name": "python3"
  },
  "language_info": {
   "codemirror_mode": {
    "name": "ipython",
    "version": 3
   },
   "file_extension": ".py",
   "mimetype": "text/x-python",
   "name": "python",
   "nbconvert_exporter": "python",
   "pygments_lexer": "ipython3",
   "version": "3.10.14"
  }
 },
 "nbformat": 4,
 "nbformat_minor": 5
}
