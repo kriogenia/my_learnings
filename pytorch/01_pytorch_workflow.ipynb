{
 "cells": [
  {
   "cell_type": "markdown",
   "id": "48bb551f-7827-4e10-a483-da162c625240",
   "metadata": {},
   "source": [
    "# PyTorch Workflow\n",
    "\n",
    "Example of end-to-end PyTorch workflow."
   ]
  },
  {
   "cell_type": "code",
   "execution_count": 5,
   "id": "40e3cf30-63f2-4519-86c6-7f95f0ce326b",
   "metadata": {},
   "outputs": [
    {
     "ename": "ModuleNotFoundError",
     "evalue": "No module named 'matplotlib'",
     "output_type": "error",
     "traceback": [
      "\u001b[0;31m---------------------------------------------------------------------------\u001b[0m",
      "\u001b[0;31mModuleNotFoundError\u001b[0m                       Traceback (most recent call last)",
      "Cell \u001b[0;32mIn[5], line 4\u001b[0m\n\u001b[1;32m      1\u001b[0m \u001b[38;5;28;01mimport\u001b[39;00m \u001b[38;5;21;01mtorch\u001b[39;00m\n\u001b[1;32m      2\u001b[0m \u001b[38;5;28;01mfrom\u001b[39;00m \u001b[38;5;21;01mtorch\u001b[39;00m \u001b[38;5;28;01mimport\u001b[39;00m nn \u001b[38;5;66;03m## contains all of PyTorch's basic building blocks for graphs. nn = neural network.\u001b[39;00m\n\u001b[0;32m----> 4\u001b[0m \u001b[38;5;28;01mimport\u001b[39;00m \u001b[38;5;21;01mmatplotlib\u001b[39;00m\u001b[38;5;21;01m.\u001b[39;00m\u001b[38;5;21;01mpyplot\u001b[39;00m \u001b[38;5;28;01mas\u001b[39;00m \u001b[38;5;21;01mplt\u001b[39;00m\n\u001b[1;32m      6\u001b[0m torch\u001b[38;5;241m.\u001b[39m__version__\n",
      "\u001b[0;31mModuleNotFoundError\u001b[0m: No module named 'matplotlib'"
     ]
    }
   ],
   "source": [
    "import torch\n",
    "from torch import nn ## contains all of PyTorch's basic building blocks for graphs. nn = neural network.\n",
    "\n",
    "import matplotlib.pyplot as plt\n",
    "\n",
    "torch.__version__"
   ]
  },
  {
   "cell_type": "markdown",
   "id": "2ce78f7f-4e5c-43d0-ba1f-8a0a26d470ca",
   "metadata": {},
   "source": [
    "## Data\n",
    "\n",
    "Preparing and loading data."
   ]
  },
  {
   "cell_type": "markdown",
   "id": "23182b18-fdef-46f0-a02a-c83ee8016162",
   "metadata": {},
   "source": [
    "## Build\n",
    "\n",
    "Giving shape to the model."
   ]
  },
  {
   "cell_type": "markdown",
   "id": "33731524-f1f8-4171-b185-0f0b9486bba8",
   "metadata": {},
   "source": [
    "## Training\n",
    "\n",
    "Fitting the model to the data."
   ]
  },
  {
   "cell_type": "markdown",
   "id": "eb8c49fa-2824-41be-bcf5-9d0ff6eb3acc",
   "metadata": {},
   "source": [
    "## Inference\n",
    "\n",
    "Making predictions and evaluating the model."
   ]
  },
  {
   "cell_type": "markdown",
   "id": "b720e2e6-6d6d-4606-aba0-609a7ddadc5c",
   "metadata": {},
   "source": [
    "## Reusing\n",
    "\n",
    "Saving and reloading the model."
   ]
  },
  {
   "cell_type": "markdown",
   "id": "ba277564-79d9-4486-954f-0d690797d18d",
   "metadata": {},
   "source": [
    "## Closing\n",
    "\n",
    "Putting it all together."
   ]
  }
 ],
 "metadata": {
  "kernelspec": {
   "display_name": "Python 3 (ipykernel)",
   "language": "python",
   "name": "python3"
  },
  "language_info": {
   "codemirror_mode": {
    "name": "ipython",
    "version": 3
   },
   "file_extension": ".py",
   "mimetype": "text/x-python",
   "name": "python",
   "nbconvert_exporter": "python",
   "pygments_lexer": "ipython3",
   "version": "3.10.14"
  }
 },
 "nbformat": 4,
 "nbformat_minor": 5
}
