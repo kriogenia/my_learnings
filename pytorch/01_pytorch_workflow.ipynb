{
 "cells": [
  {
   "cell_type": "markdown",
   "id": "48bb551f-7827-4e10-a483-da162c625240",
   "metadata": {},
   "source": [
    "# PyTorch Workflow\n",
    "\n",
    "Example of end-to-end PyTorch workflow."
   ]
  },
  {
   "cell_type": "code",
   "execution_count": 3,
   "id": "40e3cf30-63f2-4519-86c6-7f95f0ce326b",
   "metadata": {},
   "outputs": [
    {
     "data": {
      "text/plain": [
       "'2.4.0+cu121'"
      ]
     },
     "execution_count": 3,
     "metadata": {},
     "output_type": "execute_result"
    }
   ],
   "source": [
    "import torch\n",
    "from torch import nn ## contains all of PyTorch's basic building blocks for graphs. nn = neural network.\n",
    "\n",
    "import matplotlib.pyplot as plt\n",
    "\n",
    "torch.__version__"
   ]
  },
  {
   "cell_type": "markdown",
   "id": "2ce78f7f-4e5c-43d0-ba1f-8a0a26d470ca",
   "metadata": {},
   "source": [
    "## Data\n",
    "\n",
    "Preparing and loading data. Machine learning is a game of two parts:\n",
    "1. Get data into a numerical representation\n",
    "2. Build a model to learn patterns in that numerical representation.\n",
    "\n",
    "To showcase this, let's create some *known* data using the linear regression formula."
   ]
  },
  {
   "cell_type": "code",
   "execution_count": 4,
   "id": "5587c0ca-fa38-456e-9b26-af2eaabce391",
   "metadata": {},
   "outputs": [
    {
     "data": {
      "text/plain": [
       "(tensor([[0.0000],\n",
       "         [0.0200],\n",
       "         [0.0400],\n",
       "         [0.0600],\n",
       "         [0.0800],\n",
       "         [0.1000],\n",
       "         [0.1200],\n",
       "         [0.1400],\n",
       "         [0.1600],\n",
       "         [0.1800]]),\n",
       " tensor([[0.3000],\n",
       "         [0.3140],\n",
       "         [0.3280],\n",
       "         [0.3420],\n",
       "         [0.3560],\n",
       "         [0.3700],\n",
       "         [0.3840],\n",
       "         [0.3980],\n",
       "         [0.4120],\n",
       "         [0.4260]]))"
      ]
     },
     "execution_count": 4,
     "metadata": {},
     "output_type": "execute_result"
    }
   ],
   "source": [
    "weight = 0.7\n",
    "bias = 0.3\n",
    "\n",
    "start = 0\n",
    "end = 1\n",
    "step = 0.02\n",
    "X = torch.arange(start, end, step).unsqueeze(dim=1)\n",
    "y = weight * X + bias\n",
    "\n",
    "X[:10], y[:10]"
   ]
  },
  {
   "cell_type": "code",
   "execution_count": 5,
   "id": "a87c3035-a43b-44a9-93f0-23befb87fc53",
   "metadata": {},
   "outputs": [
    {
     "data": {
      "text/plain": [
       "(50, 50)"
      ]
     },
     "execution_count": 5,
     "metadata": {},
     "output_type": "execute_result"
    }
   ],
   "source": [
    "len(X), len(y)"
   ]
  },
  {
   "cell_type": "markdown",
   "id": "72a9b4c1-c7e0-4f39-84d7-6dace781c29f",
   "metadata": {},
   "source": [
    "### Splitting data into training and test sets\n",
    "\n",
    "**One of the most important concepts in machine learning** is creating a training and test set (and when required, a validation set). Ecah split of the dataset serves a specific purpose:\n",
    "\n",
    "| Split | Purpose | Amount of total data | Occurence |\n",
    "|-------|---------|----------------------|-----------|\n",
    "| Training set | The model learns from this data | ~60-80% | Always |\n",
    "| Validation set | The model gets tuned on this data | ~10-20% | Often but not always |\n",
    "| Testing set | The model is evaluated on this data | ~10-20% | Always |"
   ]
  },
  {
   "cell_type": "code",
   "execution_count": 10,
   "id": "b7f9ece6-2e9c-49d2-bc17-d6c0be722268",
   "metadata": {},
   "outputs": [
    {
     "data": {
      "text/plain": [
       "(40, 40, 10, 10)"
      ]
     },
     "execution_count": 10,
     "metadata": {},
     "output_type": "execute_result"
    }
   ],
   "source": [
    "# Create a train/test split\n",
    "train_split = int(0.8 * len(X))\n",
    "X_train, y_train = X[:train_split], y[:train_split]\n",
    "X_test, y_test = X[train_split:], y[train_split:]\n",
    "\n",
    "len(X_train), len(y_train), len(X_test), len(y_test)"
   ]
  },
  {
   "cell_type": "code",
   "execution_count": 36,
   "id": "2cb166db-29a7-4334-a3b2-8cf51ecf9612",
   "metadata": {},
   "outputs": [],
   "source": [
    "def plot_predictions(train_data=X_train,\n",
    "                     train_labels=y_train,\n",
    "                     test_data=X_test,\n",
    "                     test_labels=y_test,\n",
    "                     predictions=None):\n",
    "    \"\"\"\n",
    "    Plots training data, test data and compares predictions.\n",
    "    \"\"\"\n",
    "    plt.figure(figsize=(10,7))\n",
    "    plt.scatter(train_data, train_labels, c=\"b\", s=4, label=\"Training data\")\n",
    "    plt.scatter(test_data, test_labels, c=\"g\", s=4, label=\"Test data\")\n",
    "\n",
    "    if predictions is not None:\n",
    "        plt.scatter(test_data, predictions, c=\"r\", s=4, label=\"Predictions\")\n",
    "\n",
    "    plt.legend(prop={\"size\": 14})"
   ]
  },
  {
   "cell_type": "code",
   "execution_count": 14,
   "id": "22ae1c40-b465-485e-a73d-03a199328bd1",
   "metadata": {},
   "outputs": [
    {
     "data": {
      "image/png": "[encoded data removed]",
      "text/plain": [
       "<Figure size 1000x700 with 1 Axes>"
      ]
     },
     "metadata": {},
     "output_type": "display_data"
    }
   ],
   "source": [
    "plot_predictions()"
   ]
  },
  {
   "cell_type": "markdown",
   "id": "23182b18-fdef-46f0-a02a-c83ee8016162",
   "metadata": {},
   "source": [
    "## Build\n",
    "\n",
    "Giving shape to the model. This model does the following:\n",
    "\n",
    "- Start with random values (weight & bias)\n",
    "- Look at training data and adjust the random values to better represent (or get closer to) the ideal values.\n",
    "\n",
    "It does this through two main algorithms:\n",
    "1. Gradient descent: [https://www.youtube.com/watch?v=IHZwWFHWa-w](https://www.youtube.com/watch?v=IHZwWFHWa-w)\n",
    "2. Backpropagation: [https://www.youtube.com/watch?v=Ilg3gGewQ5U](https://www.youtube.com/watch?v=Ilg3gGewQ5U)"
   ]
  },
  {
   "cell_type": "code",
   "execution_count": 15,
   "id": "bf996f91-3d37-4ce6-a8cc-f027ba3f39cb",
   "metadata": {},
   "outputs": [],
   "source": [
    "class LinearRegressionModel(nn.Module): # almost everything in PyTorch inherits from nn.Module\n",
    "    def __init__(self):\n",
    "        super().__init__()\n",
    "        self.weights = nn.Parameter(torch.randn(1, requires_grad=True, dtype=torch.float))\n",
    "        self.bias = nn.Parameter(torch.randn(1, requires_grad=True, dtype=torch.float))\n",
    "\n",
    "    def forward(self, x: torch.Tensor) -> torch.Tensor: # should be overriden by every subclass\n",
    "        return self.weights * x + self.bias # linear regression formula"
   ]
  },
  {
   "cell_type": "markdown",
   "id": "6f1ea881-4b11-4e85-bb6b-66e1c5515582",
   "metadata": {},
   "source": [
    "### Model building essentials\n",
    "\n",
    "[PyTorch Cheat Sheet](https://pytorch.org/tutorials/beginner/ptcheat.html)\n",
    "\n",
    "- `torch.nn`, contains all of the buildings for computational graphs.\n",
    "- `torch.nn.Parameter`, what parameters should our model try and learn, often a PyTorch layer from torch.\n",
    "- `torch.nn.Module`, the base class for all neural network modules, every subclass should override `Module::forward`.\n",
    "- `torch.optim`, where the PyTorch optimizers of PyTorch live in.\n",
    "- `torch.utils.data.Dataset`, represents a map betweekn key (label) and sample (features) pairs of data.\n",
    "- `torch.utils.data.DataLoader`, creates a Python iterable over a torch Dataset, allowing to iterate over the data."
   ]
  },
  {
   "cell_type": "code",
   "execution_count": 24,
   "id": "d77c822d-f0c2-4df9-9514-91b415b6c209",
   "metadata": {},
   "outputs": [
    {
     "name": "stdout",
     "output_type": "stream",
     "text": [
      "[Parameter containing:\n",
      "tensor([-1.0595], requires_grad=True), Parameter containing:\n",
      "tensor([-1.5682], requires_grad=True)]\n"
     ]
    },
    {
     "data": {
      "text/plain": [
       "OrderedDict([('weights', tensor([-1.0595])), ('bias', tensor([-1.5682]))])"
      ]
     },
     "execution_count": 24,
     "metadata": {},
     "output_type": "execute_result"
    }
   ],
   "source": [
    "model_0 = LinearRegressionModel()\n",
    "\n",
    "print(list(model_0.parameters()))\n",
    "model_0.state_dict()"
   ]
  },
  {
   "cell_type": "markdown",
   "id": "831957a0-e460-4547-ae3f-2c1b5159fc0a",
   "metadata": {},
   "source": [
    "### Making predictions\n",
    "\n",
    "When we pass data through the model, it's going to run throughout the `forward` method."
   ]
  },
  {
   "cell_type": "code",
   "execution_count": 42,
   "id": "885861d2-daa4-4edc-9282-a528ef06d0b5",
   "metadata": {},
   "outputs": [
    {
     "data": {
      "image/png": "[encoded data removed]",
      "text/plain": [
       "<Figure size 1000x700 with 1 Axes>"
      ]
     },
     "metadata": {},
     "output_type": "display_data"
    }
   ],
   "source": [
    "torch.manual_seed(191)\n",
    "model_1 = LinearRegressionModel()\n",
    "\n",
    "with torch.inference_mode(): # disables some of the PyTorch optimizations like grad_fn (see: https://x.com/PyTorch/status/1437838231505096708)\n",
    "    y_preds = model_1(X_test)\n",
    "\n",
    "plot_predictions(predictions=y_preds)"
   ]
  },
  {
   "cell_type": "markdown",
   "id": "33731524-f1f8-4171-b185-0f0b9486bba8",
   "metadata": {},
   "source": [
    "## Training\n",
    "\n",
    "Fitting the model to the data."
   ]
  },
  {
   "cell_type": "markdown",
   "id": "eb8c49fa-2824-41be-bcf5-9d0ff6eb3acc",
   "metadata": {},
   "source": [
    "## Inference\n",
    "\n",
    "Making predictions and evaluating the model."
   ]
  },
  {
   "cell_type": "markdown",
   "id": "b720e2e6-6d6d-4606-aba0-609a7ddadc5c",
   "metadata": {},
   "source": [
    "## Reusing\n",
    "\n",
    "Saving and reloading the model."
   ]
  },
  {
   "cell_type": "markdown",
   "id": "ba277564-79d9-4486-954f-0d690797d18d",
   "metadata": {},
   "source": [
    "## Closing\n",
    "\n",
    "Putting it all together."
   ]
  }
 ],
 "metadata": {
  "kernelspec": {
   "display_name": "Python 3 (ipykernel)",
   "language": "python",
   "name": "python3"
  },
  "language_info": {
   "codemirror_mode": {
    "name": "ipython",
    "version": 3
   },
   "file_extension": ".py",
   "mimetype": "text/x-python",
   "name": "python",
   "nbconvert_exporter": "python",
   "pygments_lexer": "ipython3",
   "version": "3.10.14"
  }
 },
 "nbformat": 4,
 "nbformat_minor": 5
}
